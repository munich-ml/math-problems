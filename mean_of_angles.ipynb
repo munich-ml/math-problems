{
 "cells": [
  {
   "cell_type": "markdown",
   "metadata": {},
   "source": [
    "# Mean of angles\n",
    "The mean of angles is computed in three steps:\n",
    "- convert angular samples (radius, angle) into cartesian samples (x, y)\n",
    "- compute the mean(x) and mean(y) of the cartesian samples\n",
    "- convert the means back into angular representation"
   ]
  },
  {
   "cell_type": "markdown",
   "metadata": {},
   "source": [
    "### Imports"
   ]
  },
  {
   "cell_type": "code",
   "execution_count": 6,
   "metadata": {},
   "outputs": [],
   "source": [
    "import math\n",
    "import numpy as np\n",
    "import matplotlib.pyplot as plt"
   ]
  },
  {
   "cell_type": "markdown",
   "metadata": {},
   "source": [
    "### Helperfunctions for converting between cartesian and angular coordinates"
   ]
  },
  {
   "cell_type": "code",
   "execution_count": 7,
   "metadata": {},
   "outputs": [],
   "source": [
    "def angles_to_cartesian(angles):\n",
    "    \"\"\"\n",
    "    Converts polar angles (assumes radius 1) to cartesian x, y coordinates.\n",
    "\n",
    "    Parameters\n",
    "    ----------\n",
    "    angles : list of floats\n",
    "        angles in degrees\n",
    "\n",
    "    Returns\n",
    "    -------\n",
    "    xs : list of floats\n",
    "        cartesian x coordinates\n",
    "    ys : list of floats\n",
    "        cartesian x coordinates\n",
    "    \"\"\"    \n",
    "    xs = [math.cos(angle/180*math.pi) for angle in angles]\n",
    "    ys = [math.sin(angle/180*math.pi) for angle in angles]\n",
    "    return (xs, ys)    \n",
    "\n",
    "\n",
    "def cartesian_to_angular(x, y):\n",
    "    \"\"\"\n",
    "    Converts a pair of cartesian x, y coordinates to a radius with angle\n",
    "    \"\"\"    \n",
    "    angle = 180/math.pi * math.atan(y/x)\n",
    "    radius = math.sqrt(x*x + y*y)\n",
    "    return (radius, angle)    "
   ]
  },
  {
   "cell_type": "markdown",
   "metadata": {},
   "source": [
    "### The actual computation with some example angles"
   ]
  },
  {
   "cell_type": "code",
   "execution_count": 8,
   "metadata": {},
   "outputs": [],
   "source": [
    "angles = [45, 359]"
   ]
  },
  {
   "cell_type": "code",
   "execution_count": 9,
   "metadata": {},
   "outputs": [
    {
     "name": "stdout",
     "output_type": "stream",
     "text": [
      "radius = 0.92, mean angle = 22.0°\n"
     ]
    }
   ],
   "source": [
    "xs, ys = angles_to_cartesian(angles)\n",
    "\n",
    "# compute and plot mean\n",
    "mx = np.array(xs).mean()\n",
    "my = np.array(ys).mean()\n",
    "\n",
    "print(\"radius = {:.2f}, mean angle = {:.1f}°\".format(*cartesian_to_angular(mx, my)))"
   ]
  },
  {
   "cell_type": "markdown",
   "metadata": {},
   "source": [
    "### Plotting"
   ]
  },
  {
   "cell_type": "code",
   "execution_count": 10,
   "metadata": {},
   "outputs": [
    {
     "data": {
      "image/png": "[encoded data removed]",
      "text/plain": [
       "<Figure size 360x360 with 1 Axes>"
      ]
     },
     "metadata": {
      "needs_background": "light"
     },
     "output_type": "display_data"
    }
   ],
   "source": [
    "plt.figure(figsize=(5, 5))\n",
    "\n",
    "# draw circle with radius 1 (unit circle)\n",
    "cx, cy = angles_to_cartesian(np.arange(0, 360, 0.1))\n",
    "plt.plot(cx, cy, \"k-\", label=\"unit circle\")\n",
    "\n",
    "# draw angular samples\n",
    "plt.plot(xs, ys, \"bo\", label=\"angles\")\n",
    "\n",
    "# the mean\n",
    "plt.plot(mx, my, \"rD\", label=\"mean\")\n",
    "plt.plot((0, mx), (0, my), \"r-\")\n",
    "\n",
    "# beautify plot\n",
    "plt.grid(True)\n",
    "plt.xlabel(\"x\"), plt.ylabel(\"y\");\n",
    "for ax_lim_func in (plt.xlim, plt.ylim):\n",
    "    ax_lim_func((-1.2, 1.2))   \n",
    "plt.legend(loc=\"upper left\");"
   ]
  }
 ],
 "metadata": {
  "kernelspec": {
   "display_name": "Python 3",
   "language": "python",
   "name": "python3"
  },
  "language_info": {
   "codemirror_mode": {
    "name": "ipython",
    "version": 3
   },
   "file_extension": ".py",
   "mimetype": "text/x-python",
   "name": "python",
   "nbconvert_exporter": "python",
   "pygments_lexer": "ipython3",
   "version": "3.7.6"
  }
 },
 "nbformat": 4,
 "nbformat_minor": 4
}
